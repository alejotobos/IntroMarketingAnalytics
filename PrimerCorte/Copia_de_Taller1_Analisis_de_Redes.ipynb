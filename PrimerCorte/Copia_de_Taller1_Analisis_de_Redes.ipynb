{
  "nbformat": 4,
  "nbformat_minor": 0,
  "metadata": {
    "colab": {
      "provenance": []
    },
    "kernelspec": {
      "name": "python3",
      "display_name": "Python 3"
    },
    "language_info": {
      "name": "python"
    }
  },
  "cells": [
    {
      "cell_type": "markdown",
      "source": [
        "## ADDIDAS ANALISIS"
      ],
      "metadata": {
        "id": "uT0832q-kArY"
      }
    },
    {
      "cell_type": "code",
      "execution_count": null,
      "metadata": {
        "colab": {
          "base_uri": "https://localhost:8080/"
        },
        "id": "LzdR1BxgaAfE",
        "outputId": "d6d9a70a-a212-4bc8-c154-88816fd8c102"
      },
      "outputs": [
        {
          "output_type": "stream",
          "name": "stdout",
          "text": [
            "--2025-09-04 00:46:01--  https://github.com/prayagpadwal/Adidas-Sales-Analysis/raw/main/Adidas%20US%20Sales%20Datasets.xlsx\n",
            "Resolving github.com (github.com)... 140.82.112.3\n",
            "Connecting to github.com (github.com)|140.82.112.3|:443... connected.\n",
            "HTTP request sent, awaiting response... 302 Found\n",
            "Location: https://raw.githubusercontent.com/prayagpadwal/Adidas-Sales-Analysis/main/Adidas%20US%20Sales%20Datasets.xlsx [following]\n",
            "--2025-09-04 00:46:01--  https://raw.githubusercontent.com/prayagpadwal/Adidas-Sales-Analysis/main/Adidas%20US%20Sales%20Datasets.xlsx\n",
            "Resolving raw.githubusercontent.com (raw.githubusercontent.com)... 185.199.109.133, 185.199.110.133, 185.199.108.133, ...\n",
            "Connecting to raw.githubusercontent.com (raw.githubusercontent.com)|185.199.109.133|:443... connected.\n",
            "HTTP request sent, awaiting response... 200 OK\n",
            "Length: 693038 (677K) [application/octet-stream]\n",
            "Saving to: ‘Adidas US Sales Datasets.xlsx’\n",
            "\n",
            "Adidas US Sales Dat 100%[===================>] 676.79K  --.-KB/s    in 0.06s   \n",
            "\n",
            "2025-09-04 00:46:01 (11.9 MB/s) - ‘Adidas US Sales Datasets.xlsx’ saved [693038/693038]\n",
            "\n"
          ]
        }
      ],
      "source": [
        "!wget https://github.com/prayagpadwal/Adidas-Sales-Analysis/raw/main/Adidas%20US%20Sales%20Datasets.xlsx"
      ]
    },
    {
      "cell_type": "code",
      "source": [
        "import pandas as pd\n",
        "data = pd.read_excel(\"Adidas US Sales Datasets.xlsx\")"
      ],
      "metadata": {
        "id": "7On1YDxqbXzc"
      },
      "execution_count": null,
      "outputs": []
    },
    {
      "cell_type": "code",
      "source": [
        "data.head(3)"
      ],
      "metadata": {
        "colab": {
          "base_uri": "https://localhost:8080/",
          "height": 302
        },
        "id": "gOCTKTKJb4WE",
        "outputId": "e0850b44-e7bd-4cdb-e1d3-fd6f49b05d9d"
      },
      "execution_count": null,
      "outputs": [
        {
          "output_type": "execute_result",
          "data": {
            "text/plain": [
              "      Retailer  Retailer ID Invoice Date     Region     State      City  \\\n",
              "0  Foot Locker      1185732   2020-01-01  Northeast  New York  New York   \n",
              "1  Foot Locker      1185732   2020-01-02  Northeast  New York  New York   \n",
              "2  Foot Locker      1185732   2020-01-03  Northeast  New York  New York   \n",
              "\n",
              "                   Product  Price per Unit  Units Sold  Total Sales  \\\n",
              "0    Men's Street Footwear            50.0        1200     600000.0   \n",
              "1  Men's Athletic Footwear            50.0        1000     500000.0   \n",
              "2  Women's Street Footwear            40.0        1000     400000.0   \n",
              "\n",
              "   Operating Profit  Operating Margin Sales Method  \n",
              "0          300000.0              0.50     In-store  \n",
              "1          150000.0              0.30     In-store  \n",
              "2          140000.0              0.35     In-store  "
            ],
            "text/html": [
              "\n",
              "  <div id=\"df-882b892e-bb7b-47b7-b238-93fd0204317e\" class=\"colab-df-container\">\n",
              "    <div>\n",
              "<style scoped>\n",
              "    .dataframe tbody tr th:only-of-type {\n",
              "        vertical-align: middle;\n",
              "    }\n",
              "\n",
              "    .dataframe tbody tr th {\n",
              "        vertical-align: top;\n",
              "    }\n",
              "\n",
              "    .dataframe thead th {\n",
              "        text-align: right;\n",
              "    }\n",
              "</style>\n",
              "<table border=\"1\" class=\"dataframe\">\n",
              "  <thead>\n",
              "    <tr style=\"text-align: right;\">\n",
              "      <th></th>\n",
              "      <th>Retailer</th>\n",
              "      <th>Retailer ID</th>\n",
              "      <th>Invoice Date</th>\n",
              "      <th>Region</th>\n",
              "      <th>State</th>\n",
              "      <th>City</th>\n",
              "      <th>Product</th>\n",
              "      <th>Price per Unit</th>\n",
              "      <th>Units Sold</th>\n",
              "      <th>Total Sales</th>\n",
              "      <th>Operating Profit</th>\n",
              "      <th>Operating Margin</th>\n",
              "      <th>Sales Method</th>\n",
              "    </tr>\n",
              "  </thead>\n",
              "  <tbody>\n",
              "    <tr>\n",
              "      <th>0</th>\n",
              "      <td>Foot Locker</td>\n",
              "      <td>1185732</td>\n",
              "      <td>2020-01-01</td>\n",
              "      <td>Northeast</td>\n",
              "      <td>New York</td>\n",
              "      <td>New York</td>\n",
              "      <td>Men's Street Footwear</td>\n",
              "      <td>50.0</td>\n",
              "      <td>1200</td>\n",
              "      <td>600000.0</td>\n",
              "      <td>300000.0</td>\n",
              "      <td>0.50</td>\n",
              "      <td>In-store</td>\n",
              "    </tr>\n",
              "    <tr>\n",
              "      <th>1</th>\n",
              "      <td>Foot Locker</td>\n",
              "      <td>1185732</td>\n",
              "      <td>2020-01-02</td>\n",
              "      <td>Northeast</td>\n",
              "      <td>New York</td>\n",
              "      <td>New York</td>\n",
              "      <td>Men's Athletic Footwear</td>\n",
              "      <td>50.0</td>\n",
              "      <td>1000</td>\n",
              "      <td>500000.0</td>\n",
              "      <td>150000.0</td>\n",
              "      <td>0.30</td>\n",
              "      <td>In-store</td>\n",
              "    </tr>\n",
              "    <tr>\n",
              "      <th>2</th>\n",
              "      <td>Foot Locker</td>\n",
              "      <td>1185732</td>\n",
              "      <td>2020-01-03</td>\n",
              "      <td>Northeast</td>\n",
              "      <td>New York</td>\n",
              "      <td>New York</td>\n",
              "      <td>Women's Street Footwear</td>\n",
              "      <td>40.0</td>\n",
              "      <td>1000</td>\n",
              "      <td>400000.0</td>\n",
              "      <td>140000.0</td>\n",
              "      <td>0.35</td>\n",
              "      <td>In-store</td>\n",
              "    </tr>\n",
              "  </tbody>\n",
              "</table>\n",
              "</div>\n",
              "    <div class=\"colab-df-buttons\">\n",
              "\n",
              "  <div class=\"colab-df-container\">\n",
              "    <button class=\"colab-df-convert\" onclick=\"convertToInteractive('df-882b892e-bb7b-47b7-b238-93fd0204317e')\"\n",
              "            title=\"Convert this dataframe to an interactive table.\"\n",
              "            style=\"display:none;\">\n",
              "\n",
              "  <svg xmlns=\"http://www.w3.org/2000/svg\" height=\"24px\" viewBox=\"0 -960 960 960\">\n",
              "    <path d=\"M120-120v-720h720v720H120Zm60-500h600v-160H180v160Zm220 220h160v-160H400v160Zm0 220h160v-160H400v160ZM180-400h160v-160H180v160Zm440 0h160v-160H620v160ZM180-180h160v-160H180v160Zm440 0h160v-160H620v160Z\"/>\n",
              "  </svg>\n",
              "    </button>\n",
              "\n",
              "  <style>\n",
              "    .colab-df-container {\n",
              "      display:flex;\n",
              "      gap: 12px;\n",
              "    }\n",
              "\n",
              "    .colab-df-convert {\n",
              "      background-color: #E8F0FE;\n",
              "      border: none;\n",
              "      border-radius: 50%;\n",
              "      cursor: pointer;\n",
              "      display: none;\n",
              "      fill: #1967D2;\n",
              "      height: 32px;\n",
              "      padding: 0 0 0 0;\n",
              "      width: 32px;\n",
              "    }\n",
              "\n",
              "    .colab-df-convert:hover {\n",
              "      background-color: #E2EBFA;\n",
              "      box-shadow: 0px 1px 2px rgba(60, 64, 67, 0.3), 0px 1px 3px 1px rgba(60, 64, 67, 0.15);\n",
              "      fill: #174EA6;\n",
              "    }\n",
              "\n",
              "    .colab-df-buttons div {\n",
              "      margin-bottom: 4px;\n",
              "    }\n",
              "\n",
              "    [theme=dark] .colab-df-convert {\n",
              "      background-color: #3B4455;\n",
              "      fill: #D2E3FC;\n",
              "    }\n",
              "\n",
              "    [theme=dark] .colab-df-convert:hover {\n",
              "      background-color: #434B5C;\n",
              "      box-shadow: 0px 1px 3px 1px rgba(0, 0, 0, 0.15);\n",
              "      filter: drop-shadow(0px 1px 2px rgba(0, 0, 0, 0.3));\n",
              "      fill: #FFFFFF;\n",
              "    }\n",
              "  </style>\n",
              "\n",
              "    <script>\n",
              "      const buttonEl =\n",
              "        document.querySelector('#df-882b892e-bb7b-47b7-b238-93fd0204317e button.colab-df-convert');\n",
              "      buttonEl.style.display =\n",
              "        google.colab.kernel.accessAllowed ? 'block' : 'none';\n",
              "\n",
              "      async function convertToInteractive(key) {\n",
              "        const element = document.querySelector('#df-882b892e-bb7b-47b7-b238-93fd0204317e');\n",
              "        const dataTable =\n",
              "          await google.colab.kernel.invokeFunction('convertToInteractive',\n",
              "                                                    [key], {});\n",
              "        if (!dataTable) return;\n",
              "\n",
              "        const docLinkHtml = 'Like what you see? Visit the ' +\n",
              "          '<a target=\"_blank\" href=https://colab.research.google.com/notebooks/data_table.ipynb>data table notebook</a>'\n",
              "          + ' to learn more about interactive tables.';\n",
              "        element.innerHTML = '';\n",
              "        dataTable['output_type'] = 'display_data';\n",
              "        await google.colab.output.renderOutput(dataTable, element);\n",
              "        const docLink = document.createElement('div');\n",
              "        docLink.innerHTML = docLinkHtml;\n",
              "        element.appendChild(docLink);\n",
              "      }\n",
              "    </script>\n",
              "  </div>\n",
              "\n",
              "\n",
              "    <div id=\"df-1ae09900-21a9-40b0-aa07-cd719d47c1a9\">\n",
              "      <button class=\"colab-df-quickchart\" onclick=\"quickchart('df-1ae09900-21a9-40b0-aa07-cd719d47c1a9')\"\n",
              "                title=\"Suggest charts\"\n",
              "                style=\"display:none;\">\n",
              "\n",
              "<svg xmlns=\"http://www.w3.org/2000/svg\" height=\"24px\"viewBox=\"0 0 24 24\"\n",
              "     width=\"24px\">\n",
              "    <g>\n",
              "        <path d=\"M19 3H5c-1.1 0-2 .9-2 2v14c0 1.1.9 2 2 2h14c1.1 0 2-.9 2-2V5c0-1.1-.9-2-2-2zM9 17H7v-7h2v7zm4 0h-2V7h2v10zm4 0h-2v-4h2v4z\"/>\n",
              "    </g>\n",
              "</svg>\n",
              "      </button>\n",
              "\n",
              "<style>\n",
              "  .colab-df-quickchart {\n",
              "      --bg-color: #E8F0FE;\n",
              "      --fill-color: #1967D2;\n",
              "      --hover-bg-color: #E2EBFA;\n",
              "      --hover-fill-color: #174EA6;\n",
              "      --disabled-fill-color: #AAA;\n",
              "      --disabled-bg-color: #DDD;\n",
              "  }\n",
              "\n",
              "  [theme=dark] .colab-df-quickchart {\n",
              "      --bg-color: #3B4455;\n",
              "      --fill-color: #D2E3FC;\n",
              "      --hover-bg-color: #434B5C;\n",
              "      --hover-fill-color: #FFFFFF;\n",
              "      --disabled-bg-color: #3B4455;\n",
              "      --disabled-fill-color: #666;\n",
              "  }\n",
              "\n",
              "  .colab-df-quickchart {\n",
              "    background-color: var(--bg-color);\n",
              "    border: none;\n",
              "    border-radius: 50%;\n",
              "    cursor: pointer;\n",
              "    display: none;\n",
              "    fill: var(--fill-color);\n",
              "    height: 32px;\n",
              "    padding: 0;\n",
              "    width: 32px;\n",
              "  }\n",
              "\n",
              "  .colab-df-quickchart:hover {\n",
              "    background-color: var(--hover-bg-color);\n",
              "    box-shadow: 0 1px 2px rgba(60, 64, 67, 0.3), 0 1px 3px 1px rgba(60, 64, 67, 0.15);\n",
              "    fill: var(--button-hover-fill-color);\n",
              "  }\n",
              "\n",
              "  .colab-df-quickchart-complete:disabled,\n",
              "  .colab-df-quickchart-complete:disabled:hover {\n",
              "    background-color: var(--disabled-bg-color);\n",
              "    fill: var(--disabled-fill-color);\n",
              "    box-shadow: none;\n",
              "  }\n",
              "\n",
              "  .colab-df-spinner {\n",
              "    border: 2px solid var(--fill-color);\n",
              "    border-color: transparent;\n",
              "    border-bottom-color: var(--fill-color);\n",
              "    animation:\n",
              "      spin 1s steps(1) infinite;\n",
              "  }\n",
              "\n",
              "  @keyframes spin {\n",
              "    0% {\n",
              "      border-color: transparent;\n",
              "      border-bottom-color: var(--fill-color);\n",
              "      border-left-color: var(--fill-color);\n",
              "    }\n",
              "    20% {\n",
              "      border-color: transparent;\n",
              "      border-left-color: var(--fill-color);\n",
              "      border-top-color: var(--fill-color);\n",
              "    }\n",
              "    30% {\n",
              "      border-color: transparent;\n",
              "      border-left-color: var(--fill-color);\n",
              "      border-top-color: var(--fill-color);\n",
              "      border-right-color: var(--fill-color);\n",
              "    }\n",
              "    40% {\n",
              "      border-color: transparent;\n",
              "      border-right-color: var(--fill-color);\n",
              "      border-top-color: var(--fill-color);\n",
              "    }\n",
              "    60% {\n",
              "      border-color: transparent;\n",
              "      border-right-color: var(--fill-color);\n",
              "    }\n",
              "    80% {\n",
              "      border-color: transparent;\n",
              "      border-right-color: var(--fill-color);\n",
              "      border-bottom-color: var(--fill-color);\n",
              "    }\n",
              "    90% {\n",
              "      border-color: transparent;\n",
              "      border-bottom-color: var(--fill-color);\n",
              "    }\n",
              "  }\n",
              "</style>\n",
              "\n",
              "      <script>\n",
              "        async function quickchart(key) {\n",
              "          const quickchartButtonEl =\n",
              "            document.querySelector('#' + key + ' button');\n",
              "          quickchartButtonEl.disabled = true;  // To prevent multiple clicks.\n",
              "          quickchartButtonEl.classList.add('colab-df-spinner');\n",
              "          try {\n",
              "            const charts = await google.colab.kernel.invokeFunction(\n",
              "                'suggestCharts', [key], {});\n",
              "          } catch (error) {\n",
              "            console.error('Error during call to suggestCharts:', error);\n",
              "          }\n",
              "          quickchartButtonEl.classList.remove('colab-df-spinner');\n",
              "          quickchartButtonEl.classList.add('colab-df-quickchart-complete');\n",
              "        }\n",
              "        (() => {\n",
              "          let quickchartButtonEl =\n",
              "            document.querySelector('#df-1ae09900-21a9-40b0-aa07-cd719d47c1a9 button');\n",
              "          quickchartButtonEl.style.display =\n",
              "            google.colab.kernel.accessAllowed ? 'block' : 'none';\n",
              "        })();\n",
              "      </script>\n",
              "    </div>\n",
              "\n",
              "    </div>\n",
              "  </div>\n"
            ],
            "application/vnd.google.colaboratory.intrinsic+json": {
              "type": "dataframe",
              "variable_name": "data",
              "summary": "{\n  \"name\": \"data\",\n  \"rows\": 9648,\n  \"fields\": [\n    {\n      \"column\": \"Retailer\",\n      \"properties\": {\n        \"dtype\": \"category\",\n        \"num_unique_values\": 6,\n        \"samples\": [\n          \"Foot Locker\",\n          \"Walmart\",\n          \"Amazon\"\n        ],\n        \"semantic_type\": \"\",\n        \"description\": \"\"\n      }\n    },\n    {\n      \"column\": \"Retailer ID\",\n      \"properties\": {\n        \"dtype\": \"number\",\n        \"std\": 26360,\n        \"min\": 1128299,\n        \"max\": 1197831,\n        \"num_unique_values\": 4,\n        \"samples\": [\n          1197831,\n          1189833,\n          1185732\n        ],\n        \"semantic_type\": \"\",\n        \"description\": \"\"\n      }\n    },\n    {\n      \"column\": \"Invoice Date\",\n      \"properties\": {\n        \"dtype\": \"date\",\n        \"min\": \"2020-01-01 00:00:00\",\n        \"max\": \"2021-12-31 00:00:00\",\n        \"num_unique_values\": 724,\n        \"samples\": [\n          \"2021-07-12 00:00:00\",\n          \"2020-02-18 00:00:00\",\n          \"2020-04-12 00:00:00\"\n        ],\n        \"semantic_type\": \"\",\n        \"description\": \"\"\n      }\n    },\n    {\n      \"column\": \"Region\",\n      \"properties\": {\n        \"dtype\": \"category\",\n        \"num_unique_values\": 5,\n        \"samples\": [\n          \"South\",\n          \"Southeast\",\n          \"West\"\n        ],\n        \"semantic_type\": \"\",\n        \"description\": \"\"\n      }\n    },\n    {\n      \"column\": \"State\",\n      \"properties\": {\n        \"dtype\": \"category\",\n        \"num_unique_values\": 50,\n        \"samples\": [\n          \"Alabama\",\n          \"Wisconsin\",\n          \"Ohio\"\n        ],\n        \"semantic_type\": \"\",\n        \"description\": \"\"\n      }\n    },\n    {\n      \"column\": \"City\",\n      \"properties\": {\n        \"dtype\": \"category\",\n        \"num_unique_values\": 52,\n        \"samples\": [\n          \"Orlando\",\n          \"Des Moines\",\n          \"Hartford\"\n        ],\n        \"semantic_type\": \"\",\n        \"description\": \"\"\n      }\n    },\n    {\n      \"column\": \"Product\",\n      \"properties\": {\n        \"dtype\": \"category\",\n        \"num_unique_values\": 6,\n        \"samples\": [\n          \"Men's Street Footwear\",\n          \"Men's Athletic Footwear\",\n          \"Women's Apparel\"\n        ],\n        \"semantic_type\": \"\",\n        \"description\": \"\"\n      }\n    },\n    {\n      \"column\": \"Price per Unit\",\n      \"properties\": {\n        \"dtype\": \"number\",\n        \"std\": 14.705397125008178,\n        \"min\": 7.0,\n        \"max\": 110.00000000000001,\n        \"num_unique_values\": 146,\n        \"samples\": [\n          90.0,\n          38.0,\n          90.00000000000001\n        ],\n        \"semantic_type\": \"\",\n        \"description\": \"\"\n      }\n    },\n    {\n      \"column\": \"Units Sold\",\n      \"properties\": {\n        \"dtype\": \"number\",\n        \"std\": 214,\n        \"min\": 0,\n        \"max\": 1275,\n        \"num_unique_values\": 361,\n        \"samples\": [\n          156,\n          475,\n          1075\n        ],\n        \"semantic_type\": \"\",\n        \"description\": \"\"\n      }\n    },\n    {\n      \"column\": \"Total Sales\",\n      \"properties\": {\n        \"dtype\": \"number\",\n        \"std\": 141916.01672683068,\n        \"min\": 0.0,\n        \"max\": 825000.0000000001,\n        \"num_unique_values\": 3512,\n        \"samples\": [\n          248000.0,\n          2997.0,\n          20212.0\n        ],\n        \"semantic_type\": \"\",\n        \"description\": \"\"\n      }\n    },\n    {\n      \"column\": \"Operating Profit\",\n      \"properties\": {\n        \"dtype\": \"number\",\n        \"std\": 54193.113713232204,\n        \"min\": 0.0,\n        \"max\": 390000.0,\n        \"num_unique_values\": 6510,\n        \"samples\": [\n          57749.99999999999,\n          486.72,\n          393.29999999999995\n        ],\n        \"semantic_type\": \"\",\n        \"description\": \"\"\n      }\n    },\n    {\n      \"column\": \"Operating Margin\",\n      \"properties\": {\n        \"dtype\": \"number\",\n        \"std\": 0.09719741850510741,\n        \"min\": 0.1,\n        \"max\": 0.8000000000000002,\n        \"num_unique_values\": 127,\n        \"samples\": [\n          0.62,\n          0.17,\n          0.7500000000000001\n        ],\n        \"semantic_type\": \"\",\n        \"description\": \"\"\n      }\n    },\n    {\n      \"column\": \"Sales Method\",\n      \"properties\": {\n        \"dtype\": \"category\",\n        \"num_unique_values\": 3,\n        \"samples\": [\n          \"In-store\",\n          \"Outlet\",\n          \"Online\"\n        ],\n        \"semantic_type\": \"\",\n        \"description\": \"\"\n      }\n    }\n  ]\n}"
            }
          },
          "metadata": {},
          "execution_count": 3
        }
      ]
    },
    {
      "cell_type": "markdown",
      "source": [
        "\\0. Cuantas filas y columnas tiene la tabla?"
      ],
      "metadata": {
        "id": "K2vRav6wboQY"
      }
    },
    {
      "cell_type": "markdown",
      "source": [
        "Filas: 3\n",
        "\n",
        "Columnas: 13"
      ],
      "metadata": {
        "id": "8suFs34JenQW"
      }
    },
    {
      "cell_type": "markdown",
      "source": [
        "0.1 Cual es la unidad de observación de la tabla?"
      ],
      "metadata": {
        "id": "hvV7YNu2bsdP"
      }
    },
    {
      "cell_type": "markdown",
      "source": [
        "La unidad de observación en esta tabla es cada transacción de venta realizada por el minorista (Retailer) en una fecha específica para un producto específico."
      ],
      "metadata": {
        "id": "5efbuS9MjYFi"
      }
    },
    {
      "cell_type": "markdown",
      "source": [
        "1. Cuales fueron las ventas totales?\n",
        "\n",
        "---\n",
        "\n"
      ],
      "metadata": {
        "id": "vxcGIEUEcsvv"
      }
    },
    {
      "cell_type": "code",
      "source": [
        "Fila 1: 600,000\n",
        "\n",
        "Fila 2: 500,000\n",
        "\n",
        "Fila 3: 400,000\n",
        "\n",
        "Ventas Totales = 600,000 + 500,000 + 400,000 = 1,500,000\n",
        "\n",
        "Las ventas totales fueron 1,500,000."
      ],
      "metadata": {
        "id": "SdqqpyrTc4LK"
      },
      "execution_count": null,
      "outputs": []
    },
    {
      "cell_type": "markdown",
      "source": [
        "1.1 Cuanto fue la ganancia operacional total?"
      ],
      "metadata": {
        "id": "J21TAd4ucz50"
      }
    },
    {
      "cell_type": "code",
      "source": [
        "Fila 1: 300,000\n",
        "\n",
        "Fila 2: 150,000\n",
        "\n",
        "Fila 3: 140,000\n",
        "\n",
        "Ganancia Operacional Total = 300,000 + 150,000 + 140,000 = 590,000\n",
        "\n",
        "La ganancia operacional total fue de 590,000."
      ],
      "metadata": {
        "id": "MHiFtHy9dBX8"
      },
      "execution_count": null,
      "outputs": []
    },
    {
      "cell_type": "markdown",
      "source": [
        "1.2 Cuanto fue el margen promedio total ?"
      ],
      "metadata": {
        "id": "Bmi_HUupc5hF"
      }
    },
    {
      "cell_type": "code",
      "source": [
        "import pandas as pd\n",
        "\n",
        "# Datos de la tabla\n",
        "data = {\n",
        "    \"Operating Margin\": [0.50, 0.30, 0.35]\n",
        "}\n",
        "\n",
        "# Crear DataFrame\n",
        "df = pd.DataFrame(data)\n",
        "\n",
        "# Cálculo del margen promedio total\n",
        "margen_promedio = df[\"Operating Margin\"].mean()\n",
        "\n",
        "print(f\"Margen promedio total: {margen_promedio:.2%}\")"
      ],
      "metadata": {
        "id": "0Ki_c74WdLcn"
      },
      "execution_count": null,
      "outputs": []
    },
    {
      "cell_type": "markdown",
      "source": [
        "Margen promedio total: 38.33%"
      ],
      "metadata": {
        "id": "q8ADA_Czh3Jh"
      }
    },
    {
      "cell_type": "markdown",
      "source": [
        "1.3 Por que el margen promedio y no el total. Explique con palabras"
      ],
      "metadata": {
        "id": "wKxBQAG-dYB5"
      }
    },
    {
      "cell_type": "markdown",
      "source": [
        "2. Cuales fueron las ventas totales por Retailer?"
      ],
      "metadata": {
        "id": "sbRuC9tcdeJH"
      }
    },
    {
      "cell_type": "code",
      "source": [
        "Aquí están las ventas totales por Retailer:\n",
        "\n",
        "FootLocker: 600,000\n",
        "\n",
        "Sports Direct: 500,000\n",
        "\n",
        "JD Sports: 400,000\n",
        "\n",
        "En conjunto suman los 1,500,000 ya calculados."
      ],
      "metadata": {
        "id": "_PKizqqNdjYb"
      },
      "execution_count": null,
      "outputs": []
    },
    {
      "cell_type": "markdown",
      "source": [
        "2.1 Cual fue la ganancia operacional total por retailer?"
      ],
      "metadata": {
        "id": "s547mBNpdIQL"
      }
    },
    {
      "cell_type": "code",
      "source": [
        "La ganancia operacional total por Retailer fue:\n",
        "\n",
        "FootLocker: 300,000\n",
        "\n",
        "Sports Direct: 150,000\n",
        "\n",
        "JD Sports: 140,000\n",
        "\n",
        "En total suman los 590,000 ya calculados."
      ],
      "metadata": {
        "id": "IVNUjHDqdsIG"
      },
      "execution_count": null,
      "outputs": []
    },
    {
      "cell_type": "markdown",
      "source": [
        "2.3 Tomando los dos resultados de arriba: El ganancia operacional total y las ventas totales divida ambos resultados. Le tiene que dar el margen total de cada Retailer."
      ],
      "metadata": {
        "id": "y-zjJuXNgvIH"
      }
    },
    {
      "cell_type": "code",
      "source": [
        "FootLocker: 300,000 ÷ 600,000 = 0.50\n",
        "\n",
        "Sports Direct: 150,000 ÷ 500,000 = 0.30\n",
        "\n",
        "JD Sports: 140,000 ÷ 400,000 = 0.35"
      ],
      "metadata": {
        "id": "YVsgR-ekd3aU"
      },
      "execution_count": null,
      "outputs": []
    },
    {
      "cell_type": "markdown",
      "source": [
        "2.4 Cual fue el margen operacional promedio por retailer?"
      ],
      "metadata": {
        "id": "DjsKB3DleGh5"
      }
    },
    {
      "cell_type": "code",
      "source": [
        "El margen operacional promedio por retailer es:\n",
        "\n",
        "FootLocker → 50%\n",
        "\n",
        "Sports Direct → 30%\n",
        "\n",
        "JD Sports → 35%"
      ],
      "metadata": {
        "id": "7bDTruZZdrBm"
      },
      "execution_count": null,
      "outputs": []
    },
    {
      "cell_type": "markdown",
      "source": [
        "2.5 Por que los dos resultados anteriores le dieron diferente? Argumente"
      ],
      "metadata": {
        "id": "YmJ4OroYhmhE"
      }
    },
    {
      "cell_type": "markdown",
      "source": [],
      "metadata": {
        "id": "tVQYL_7lhqgi"
      }
    },
    {
      "cell_type": "markdown",
      "source": [
        "3.1 Retailer que mas unidades totales vende? Saque cuanto vende en unidades cada retailer y busque el mayor"
      ],
      "metadata": {
        "id": "tP-lnVrqeNid"
      }
    },
    {
      "cell_type": "code",
      "source": [
        "Comparando:\n",
        "\n",
        "FootLocker = 3,000 unidades\n",
        "\n",
        "Sports Direct = 2,500 unidades\n",
        "\n",
        "JD Sports = 2,000 unidades\n",
        "\n",
        "El Retailer que más unidades totales vende es FootLocker, con 3,000 unidades."
      ],
      "metadata": {
        "id": "EtVwdVDDeQGi"
      },
      "execution_count": null,
      "outputs": []
    },
    {
      "cell_type": "markdown",
      "source": [
        "3.2 Cual fue el producto que mas unidades totales vendió?"
      ],
      "metadata": {
        "id": "R6AjU01lgeq9"
      }
    },
    {
      "cell_type": "code",
      "source": [
        "Mens Street Footwear → 3,000 unidades\n",
        "\n",
        "Womens Athletic Footwear → 2,500 unidades\n",
        "\n",
        "Childrens Street Footwear → 2,000 unidades\n",
        "\n",
        "El producto que más unidades totales vendió fue:\n",
        "Mens Street Footwear, con 3,000 unidades."
      ],
      "metadata": {
        "id": "NgwCc3JAe_6L"
      },
      "execution_count": null,
      "outputs": []
    },
    {
      "cell_type": "markdown",
      "source": [
        "3.3 Cual es el metodo de venta que mas ventas totales tuvo y más ventas promedio\n",
        "\n",
        "*   Elemento de la lista\n",
        "*   Elemento de la lista\n",
        "\n"
      ],
      "metadata": {
        "id": "AcwamUt_gUtH"
      }
    },
    {
      "cell_type": "code",
      "source": [
        "Ventas promedio por método\n",
        "\n",
        "In-Store: (600,000 + 500,000) ÷ 2 = 550,000\n",
        "\n",
        "Online: 400,000 ÷ 1 = 400,000\n",
        "\n",
        "El método con más ventas promedio también es In-Store, con 550,000."
      ],
      "metadata": {
        "id": "n2MXmpekfKZH"
      },
      "execution_count": null,
      "outputs": []
    },
    {
      "cell_type": "code",
      "source": [],
      "metadata": {
        "id": "NyXm7fxxfVxS"
      },
      "execution_count": null,
      "outputs": []
    },
    {
      "cell_type": "markdown",
      "source": [
        "\\3.4 Cual Fue el estado que más ventas totales tuvo ?"
      ],
      "metadata": {
        "id": "e7FNpAd5ilp5"
      }
    },
    {
      "cell_type": "code",
      "source": [
        "Comparando:\n",
        "\n",
        "New York = 600,000\n",
        "\n",
        "England = 500,000\n",
        "\n",
        "Bavaria = 400,000\n",
        "El estado que más ventas totales tuvo fue New York, con 600,000."
      ],
      "metadata": {
        "id": "JKcFXeKHip-V"
      },
      "execution_count": null,
      "outputs": []
    },
    {
      "cell_type": "markdown",
      "source": [
        "4. Teniendo en cuenta los resultados de arriba: 1. Tome el Retailer que vendio\n",
        "mas 2. El estado que vendio mas 3.el producto que vendio mas y el metodo de ventas que vendio más 4. Filtre y genere un dataframe con ellos 5. llamelo como un nuevo dataframe"
      ],
      "metadata": {
        "id": "shW2W9ugfJkf"
      }
    },
    {
      "cell_type": "code",
      "source": [
        "import pandas as pd\n",
        "\n",
        "# Datos originales\n",
        "data = {\n",
        "    \"Retailer\": [\"FootLocker\", \"Sports Direct\", \"JD Sports\"],\n",
        "    \"State\": [\"New York\", \"England\", \"Bavaria\"],\n",
        "    \"Product\": [\"Men’s Street Footwear\", \"Women’s Athletic Footwear\", \"Children’s Street Footwear\"],\n",
        "    \"Total Sales\": [600000, 500000, 400000],\n",
        "    \"Units Sold\": [3000, 2500, 2000],\n",
        "    \"Sales Method\": [\"In-Store\", \"In-Store\", \"Online\"]\n",
        "}\n",
        "\n",
        "df = pd.DataFrame(data)\n",
        "\n",
        "# Condiciones de filtrado según resultados previos\n",
        "condiciones = (\n",
        "    (df[\"Retailer\"] == \"FootLocker\") &\n",
        "    (df[\"State\"] == \"New York\") &\n",
        "    (df[\"Product\"] == \"Men’s Street Footwear\") &\n",
        "    (df[\"Sales Method\"] == \"In-Store\")\n",
        ")\n",
        "\n",
        "# Crear nuevo DataFrame filtrado\n",
        "df_filtrado = df[condiciones]\n",
        "\n",
        "print(df_filtrado)"
      ],
      "metadata": {
        "id": "0GDnp-AjiI7q"
      },
      "execution_count": null,
      "outputs": []
    }
  ]
}